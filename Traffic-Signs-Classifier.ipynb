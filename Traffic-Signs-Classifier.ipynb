{
  "nbformat": 4,
  "nbformat_minor": 0,
  "metadata": {
    "accelerator": "TPU",
    "colab": {
      "name": "test.ipynb",
      "provenance": [],
      "collapsed_sections": []
    },
    "kernelspec": {
      "display_name": "Python 3",
      "name": "python3"
    },
    "language_info": {
      "name": "python"
    }
  },
  "cells": [
    {
      "cell_type": "code",
      "metadata": {
        "colab": {
          "base_uri": "https://localhost:8080/"
        },
        "id": "Uzs-o_h9bBRI",
        "outputId": "5f2cf6e2-08cf-4549-f8d2-0e083e0a1e87"
      },
      "source": [
        "! pip install kaggle\n",
        "! mkdir ~/.kaggle\n",
        "! cp kaggle.json ~/.kaggle/\n",
        "! chmod 600 ~/.kaggle/kaggle.json\n"
      ],
      "execution_count": null,
      "outputs": [
        {
          "output_type": "stream",
          "text": [
            "Requirement already satisfied: kaggle in /usr/local/lib/python3.7/dist-packages (1.5.12)\n",
            "Requirement already satisfied: python-slugify in /usr/local/lib/python3.7/dist-packages (from kaggle) (5.0.2)\n",
            "Requirement already satisfied: six>=1.10 in /usr/local/lib/python3.7/dist-packages (from kaggle) (1.15.0)\n",
            "Requirement already satisfied: certifi in /usr/local/lib/python3.7/dist-packages (from kaggle) (2021.5.30)\n",
            "Requirement already satisfied: urllib3 in /usr/local/lib/python3.7/dist-packages (from kaggle) (1.24.3)\n",
            "Requirement already satisfied: tqdm in /usr/local/lib/python3.7/dist-packages (from kaggle) (4.41.1)\n",
            "Requirement already satisfied: python-dateutil in /usr/local/lib/python3.7/dist-packages (from kaggle) (2.8.1)\n",
            "Requirement already satisfied: requests in /usr/local/lib/python3.7/dist-packages (from kaggle) (2.23.0)\n",
            "Requirement already satisfied: text-unidecode>=1.3 in /usr/local/lib/python3.7/dist-packages (from python-slugify->kaggle) (1.3)\n",
            "Requirement already satisfied: chardet<4,>=3.0.2 in /usr/local/lib/python3.7/dist-packages (from requests->kaggle) (3.0.4)\n",
            "Requirement already satisfied: idna<3,>=2.5 in /usr/local/lib/python3.7/dist-packages (from requests->kaggle) (2.10)\n"
          ],
          "name": "stdout"
        }
      ]
    },
    {
      "cell_type": "code",
      "metadata": {
        "colab": {
          "base_uri": "https://localhost:8080/"
        },
        "id": "nTYF3aGLgz9e",
        "outputId": "7a853009-93b7-4b36-aa55-2b60ef6bec98"
      },
      "source": [
        "! kaggle datasets download meowmeowmeowmeowmeow/gtsrb-german-traffic-sign"
      ],
      "execution_count": null,
      "outputs": [
        {
          "output_type": "stream",
          "text": [
            "Downloading gtsrb-german-traffic-sign.zip to /content\n",
            "100% 609M/612M [00:05<00:00, 140MB/s]\n",
            "100% 612M/612M [00:05<00:00, 121MB/s]\n"
          ],
          "name": "stdout"
        }
      ]
    },
    {
      "cell_type": "code",
      "metadata": {
        "id": "-I7hzzLxlkkb"
      },
      "source": [
        "! unzip gtsrb-german-traffic-sign\n"
      ],
      "execution_count": null,
      "outputs": []
    },
    {
      "cell_type": "code",
      "metadata": {
        "id": "EUOw5V-km1w6"
      },
      "source": [
        "import os\n",
        "import random\n",
        "\n",
        "import matplotlib.pyplot as plt\n",
        "import numpy as np\n",
        "from PIL import Image\n",
        "\n",
        "import tensorflow as tf\n",
        "from keras.layers import Conv2D, Dense, Flatten, MaxPool2D, Dropout\n",
        "from sklearn.model_selection import train_test_split\n"
      ],
      "execution_count": null,
      "outputs": []
    },
    {
      "cell_type": "code",
      "metadata": {
        "id": "2HeXdMc9niwP"
      },
      "source": [
        "def createDataAndLabels(path):\n",
        "  imgs_path = path\n",
        "  data_list = []\n",
        "  labels_list = []\n",
        "  numClasses = 43\n",
        "  for i in range(numClasses):\n",
        "      i_path = os.path.join(imgs_path, str(i)) #0-42\n",
        "      for img in os.listdir(i_path):\n",
        "          im = Image.open(i_path +'/'+ img)\n",
        "          im = im.resize((30,30))\n",
        "          im = np.array(im)\n",
        "          im = im.astype('float')\n",
        "\n",
        "          data_list.append(im)\n",
        "          labels_list.append(i)\n",
        "  data = np.array(data_list)\n",
        "  labels = np.array(labels_list)\n",
        "  return data, labels\n",
        "  print(\"Done\")\n",
        "data, labels = createDataAndLabels(\"Train\")\n"
      ],
      "execution_count": null,
      "outputs": []
    },
    {
      "cell_type": "code",
      "metadata": {
        "colab": {
          "base_uri": "https://localhost:8080/",
          "height": 285
        },
        "id": "F_ZzB1DOv6ge",
        "outputId": "57b716f4-a1ac-471f-a621-b95daeaea902"
      },
      "source": [
        "RND = np.random.randint(1, len(data))\n",
        "img = data[RND]\n",
        "\n",
        "print(\"labal: \"+ str(labels[RND]))\n",
        "plt.imshow(img.astype('uint8'))\n",
        "plt.show()"
      ],
      "execution_count": null,
      "outputs": [
        {
          "output_type": "stream",
          "text": [
            "labal: 12\n"
          ],
          "name": "stdout"
        },
        {
          "output_type": "display_data",
          "data": {
            "image/png": "[encoded data removed]",
            "text/plain": [
              "<Figure size 432x288 with 1 Axes>"
            ]
          },
          "metadata": {
            "tags": [],
            "needs_background": "light"
          }
        }
      ]
    },
    {
      "cell_type": "code",
      "metadata": {
        "colab": {
          "base_uri": "https://localhost:8080/"
        },
        "id": "dS_pbv_RxIEw",
        "outputId": "78ce554f-47a5-4c61-93cc-afc63341af13"
      },
      "source": [
        "x_train, x_test, y_train, y_test= train_test_split(data, labels, test_size= 0.1, random_state=10)\n",
        "print(\"training_shape: \", x_train.shape,y_train.shape)\n",
        "print(\"testing_shape: \", x_test.shape,y_test.shape)\n",
        "\n",
        "#reduce channels from 3 to 1\n",
        "x_train = np.sum(x_train/3, axis=3, keepdims = True)\n",
        "x_test =  np.sum(x_test/3, axis=3, keepdims = True)\n",
        "\n",
        "datagen = tf.keras.preprocessing.image.ImageDataGenerator(\n",
        "    rescale=1./255,\n",
        "    featurewise_center=True,\n",
        "    rotation_range=20,\n",
        "    width_shift_range=0.2,\n",
        "    height_shift_range=0.2,\n",
        "    horizontal_flip=True,\n",
        "    shear_range=0.2,\n",
        "    zoom_range=0.2,)\n",
        "\n",
        "datagen.fit(x_train, augment=True, seed=1)\n",
        "\n",
        "\n",
        "\n",
        "print(\"\\ntraining_shape: \", x_train.shape,y_train.shape)\n",
        "print(\"testing_shape: \", x_test.shape,y_test.shape)\n",
        "y_train = tf.one_hot(y_train,43)\n",
        "y_test = tf.one_hot(y_test,43)"
      ],
      "execution_count": null,
      "outputs": [
        {
          "output_type": "stream",
          "text": [
            "training_shape:  (35288, 30, 30, 3) (35288,)\n",
            "testing_shape:  (3921, 30, 30, 3) (3921,)\n",
            "\n",
            "training_shape:  (35288, 30, 30, 1) (35288,)\n",
            "testing_shape:  (3921, 30, 30, 1) (3921,)\n"
          ],
          "name": "stdout"
        }
      ]
    },
    {
      "cell_type": "code",
      "metadata": {
        "id": "UkKvwpMyzeiV",
        "colab": {
          "base_uri": "https://localhost:8080/"
        },
        "outputId": "64611af4-e59b-4dd8-c06a-40c8111626bb"
      },
      "source": [
        "model = tf.keras.Sequential()\n",
        "\n",
        "model.add(Conv2D(filters=32, kernel_size=(5,5), activation=\"relu\", input_shape= (30, 30, 1)))\n",
        "model.add((Conv2D(filters=32, kernel_size=(5,5), activation=\"relu\")))\n",
        "\n",
        "# model.add(tf.keras.layers.Bidirectional(tf.keras.layers.LSTM(2,return_sequences=False, dropout=0.25, \n",
        "# recurrent_dropout=0.1)))\n",
        "\n",
        "model.add(MaxPool2D(pool_size=(2,2)))\n",
        "\n",
        "model.add(Dropout(rate=0.25))\n",
        "\n",
        "model.add((Conv2D(filters=64,kernel_size=(3,3),activation=\"relu\"))) \n",
        "\n",
        "model.add((MaxPool2D(pool_size=(2,2))))\n",
        "\n",
        "model.add(Dropout(rate=0.25))\n",
        "\n",
        "\n",
        "model.add(Flatten()) \n",
        "model.add(Dense(256, activation=\"relu\"))\n",
        "\n",
        "model.add(Dropout(rate=0.40))\n",
        "\n",
        "model.add(Dense(43, activation=\"softmax\")) \n",
        "\n",
        "model.build((None, 30, 30, 1)) # `input_shape` is the shape of the input data\n",
        "model.summary()"
      ],
      "execution_count": null,
      "outputs": [
        {
          "output_type": "stream",
          "text": [
            "Model: \"sequential_21\"\n",
            "_________________________________________________________________\n",
            "Layer (type)                 Output Shape              Param #   \n",
            "=================================================================\n",
            "module_wrapper_211 (ModuleWr (None, 26, 26, 32)        832       \n",
            "_________________________________________________________________\n",
            "module_wrapper_212 (ModuleWr (None, 22, 22, 32)        25632     \n",
            "_________________________________________________________________\n",
            "module_wrapper_213 (ModuleWr (None, 11, 11, 32)        0         \n",
            "_________________________________________________________________\n",
            "module_wrapper_214 (ModuleWr (None, 11, 11, 32)        0         \n",
            "_________________________________________________________________\n",
            "module_wrapper_215 (ModuleWr (None, 9, 9, 64)          18496     \n",
            "_________________________________________________________________\n",
            "module_wrapper_216 (ModuleWr (None, 4, 4, 64)          0         \n",
            "_________________________________________________________________\n",
            "module_wrapper_217 (ModuleWr (None, 4, 4, 64)          0         \n",
            "_________________________________________________________________\n",
            "module_wrapper_218 (ModuleWr (None, 1024)              0         \n",
            "_________________________________________________________________\n",
            "module_wrapper_219 (ModuleWr (None, 256)               262400    \n",
            "_________________________________________________________________\n",
            "module_wrapper_220 (ModuleWr (None, 256)               0         \n",
            "_________________________________________________________________\n",
            "module_wrapper_221 (ModuleWr (None, 43)                11051     \n",
            "=================================================================\n",
            "Total params: 318,411\n",
            "Trainable params: 318,411\n",
            "Non-trainable params: 0\n",
            "_________________________________________________________________\n"
          ],
          "name": "stdout"
        }
      ]
    },
    {
      "cell_type": "code",
      "metadata": {
        "id": "3gaY0KD5ziUM"
      },
      "source": [
        "model.compile(loss=\"categorical_crossentropy\", optimizer=\"adam\", metrics=[\"accuracy\"])"
      ],
      "execution_count": null,
      "outputs": []
    },
    {
      "cell_type": "code",
      "metadata": {
        "colab": {
          "base_uri": "https://localhost:8080/"
        },
        "id": "BqX29qVHz254",
        "outputId": "dd51b7ba-19d1-404e-9413-6e65dfabed21"
      },
      "source": [
        "epochs = 5\n",
        "history = model.fit(x_train, y_train, epochs=epochs,batch_size=64, validation_data=(x_train, y_train))\n"
      ],
      "execution_count": null,
      "outputs": [
        {
          "output_type": "stream",
          "text": [
            "Epoch 1/5\n",
            "552/552 [==============================] - 154s 279ms/step - loss: 0.7512 - accuracy: 0.7945 - val_loss: 0.2223 - val_accuracy: 0.9562\n",
            "Epoch 2/5\n",
            "552/552 [==============================] - 153s 277ms/step - loss: 0.4716 - accuracy: 0.8676 - val_loss: 0.1329 - val_accuracy: 0.9719\n",
            "Epoch 3/5\n",
            "552/552 [==============================] - 150s 272ms/step - loss: 0.3558 - accuracy: 0.8993 - val_loss: 0.1025 - val_accuracy: 0.9787\n",
            "Epoch 4/5\n",
            "552/552 [==============================] - 150s 272ms/step - loss: 0.2995 - accuracy: 0.9123 - val_loss: 0.0868 - val_accuracy: 0.9786\n",
            "Epoch 5/5\n",
            "552/552 [==============================] - 150s 272ms/step - loss: 0.2747 - accuracy: 0.9207 - val_loss: 0.0593 - val_accuracy: 0.9884\n"
          ],
          "name": "stdout"
        }
      ]
    },
    {
      "cell_type": "code",
      "metadata": {
        "colab": {
          "base_uri": "https://localhost:8080/"
        },
        "id": "Uta98OdT5sLp",
        "outputId": "0a44be9b-3ac4-4e8e-f27f-888e1efbf4a4"
      },
      "source": [
        "score = model.evaluate(x_train, y_train)\n",
        "print('Train Accuracy: {}'.format(score[1]))\n",
        "\n",
        "score = model.evaluate(x_test, y_test)\n",
        "print('Test Accuracy: {}'.format(score[1]))"
      ],
      "execution_count": null,
      "outputs": [
        {
          "output_type": "stream",
          "text": [
            "1103/1103 [==============================] - 32s 29ms/step - loss: 0.0593 - accuracy: 0.9884\n",
            "Train Accuracy: 0.9883813261985779\n",
            "123/123 [==============================] - 4s 33ms/step - loss: 0.0726 - accuracy: 0.9855\n",
            "Test Accuracy: 0.9854629039764404\n"
          ],
          "name": "stdout"
        }
      ]
    }
  ]
}
